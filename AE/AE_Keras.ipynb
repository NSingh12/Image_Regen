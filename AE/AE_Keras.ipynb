{
 "cells": [
  {
   "cell_type": "code",
   "execution_count": 1,
   "metadata": {
    "collapsed": false
   },
   "outputs": [
    {
     "name": "stderr",
     "output_type": "stream",
     "text": [
      "Using TensorFlow backend.\n"
     ]
    }
   ],
   "source": [
    "import numpy as np\n",
    "from matplotlib import pyplot as plt\n",
    "import pandas as pd\n",
    "\n",
    "import keras\n",
    "from keras.layers import Dense, Activation, Input\n",
    "from keras.models import Model"
   ]
  },
  {
   "cell_type": "code",
   "execution_count": 2,
   "metadata": {
    "collapsed": true
   },
   "outputs": [],
   "source": [
    "ds = pd.read_csv('../data.csv')\n",
    "data = ds.values"
   ]
  },
  {
   "cell_type": "code",
   "execution_count": 3,
   "metadata": {
    "collapsed": false
   },
   "outputs": [
    {
     "name": "stdout",
     "output_type": "stream",
     "text": [
      "(50400, 784) (9600, 784)\n"
     ]
    }
   ],
   "source": [
    "X_data = data[:, 1:]\n",
    "X_std = X_data/255.0\n",
    "\n",
    "n_train = int(0.84*X_std.shape[0])\n",
    "n_val = int(0.16*X_std.shape[0])\n",
    "\n",
    "X_train = X_std[:n_train]\n",
    "X_val = X_std[n_train:n_train+n_val]\n",
    "\n",
    "print X_train.shape, X_val.shape"
   ]
  },
  {
   "cell_type": "code",
   "execution_count": 4,
   "metadata": {
    "collapsed": false
   },
   "outputs": [],
   "source": [
    "inp = Input(shape = (784, ))\n",
    "embedding_dim = 16\n",
    "\n",
    "fc1 = Dense(embedding_dim)(inp)\n",
    "ac1 = Activation('tanh')(fc1)\n",
    "\n",
    "fc2 = Dense(784)(ac1)\n",
    "ac2 = Activation('sigmoid')(fc2)\n",
    "\n",
    "autoencoder = Model(inputs = inp, outputs = ac2)"
   ]
  },
  {
   "cell_type": "code",
   "execution_count": 7,
   "metadata": {
    "collapsed": false
   },
   "outputs": [],
   "source": [
    "encoder = Model(inputs = inp, outputs = ac1)\n",
    "\n",
    "dec_inp = Input(shape=(embedding_dim,))\n",
    "x = autoencoder.layers[3](dec_inp)\n",
    "x = autoencoder.layers[4](x)\n",
    "\n",
    "decoder = Model(inputs=dec_inp, outputs=x)\n",
    "\n",
    "autoencoder.fit?"
   ]
  },
  {
   "cell_type": "code",
   "execution_count": 11,
   "metadata": {
    "collapsed": true
   },
   "outputs": [],
   "source": [
    "autoencoder.compile(loss='mse', optimizer='adam', metrics = ['accuracy'])\n",
    "\n",
    "hist = autoencoder.fit(X_train, X_train, epochs=50, batch_size=100, shuffle=True, validation_data=(X_val, X_val))"
   ]
  },
  {
   "cell_type": "code",
   "execution_count": null,
   "metadata": {
    "collapsed": true
   },
   "outputs": [],
   "source": [
    "for ix in range(50):\n",
    "    plt.figure(ix)\n",
    "    plt.subplot(1,2,1)\n",
    "    plt.title('Original')\n",
    "    plt.imshow(X_train[ix].reshape((28, 28)), cmap='gray')\n",
    "    plt.subplot(1,2,2)\n",
    "    plt.title('AutoEncoder Regenration')\n",
    "    plt.imshow(auto_encoder_decodes[ix].reshape((28, 28)), cmap='gray')\n",
    "    plt.savefig(('#' + str(ix) + ': AE-Regenerated ' + str(data[ix, 0]) + '.png'), dpi=100, transparent=True)"
   ]
  },
  {
   "cell_type": "code",
   "execution_count": null,
   "metadata": {
    "collapsed": true
   },
   "outputs": [],
   "source": []
  }
 ],
 "metadata": {
  "kernelspec": {
   "display_name": "Python 2",
   "language": "python",
   "name": "python2"
  },
  "language_info": {
   "codemirror_mode": {
    "name": "ipython",
    "version": 2
   },
   "file_extension": ".py",
   "mimetype": "text/x-python",
   "name": "python",
   "nbconvert_exporter": "python",
   "pygments_lexer": "ipython2",
   "version": "2.7.12"
  }
 },
 "nbformat": 4,
 "nbformat_minor": 2
}
