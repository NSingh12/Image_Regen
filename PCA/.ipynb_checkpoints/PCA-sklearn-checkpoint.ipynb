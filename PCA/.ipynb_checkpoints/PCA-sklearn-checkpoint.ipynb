{
 "cells": [
  {
   "cell_type": "code",
   "execution_count": 3,
   "metadata": {
    "collapsed": true
   },
   "outputs": [],
   "source": [
    "from sklearn.decomposition import PCA\n",
    "import numpy as np\n",
    "from matplotlib import pyplot as plt\n",
    "import pandas as pd\n",
    "%matplotlib inline"
   ]
  },
  {
   "cell_type": "code",
   "execution_count": 5,
   "metadata": {
    "collapsed": false
   },
   "outputs": [
    {
     "name": "stdout",
     "output_type": "stream",
     "text": [
      "(50400, 784) (9600, 784)\n"
     ]
    }
   ],
   "source": [
    "ds = pd.read_csv('../data.csv')\n",
    "data = ds.values\n",
    "\n",
    "X_data = data[:, 1:]\n",
    "X_std = X_data/255.0\n",
    "\n",
    "n_train = int(0.84*X_std.shape[0])\n",
    "n_val = int(0.16*X_std.shape[0])\n",
    "\n",
    "X_train = X_std[:n_train]\n",
    "X_val = X_std[n_train:n_train+n_val]\n",
    "\n",
    "print X_train.shape, X_val.shape"
   ]
  },
  {
   "cell_type": "code",
   "execution_count": 6,
   "metadata": {
    "collapsed": true
   },
   "outputs": [],
   "source": [
    "pca = PCA(n_components=16)\n",
    "pca_dim_reducts = pca.fit_transform(X_std[:(n_train + n_val)])\n",
    "\n",
    "pca_regenerations = pca.inverse_transform(pca_dim_reducts)"
   ]
  },
  {
   "cell_type": "code",
   "execution_count": null,
   "metadata": {
    "collapsed": true
   },
   "outputs": [],
   "source": [
    "for ix in range(50):\n",
    "    plt.figure(ix)\n",
    "    plt.subplot(1,2,1)\n",
    "    plt.title('Original')\n",
    "    plt.imshow(X_train[ix].reshape((28, 28)), cmap='gray')\n",
    "    plt.subplot(1,2,2)\n",
    "    plt.title('PCA Regenration')\n",
    "    plt.imshow(pca_regenerations[ix].reshape((28, 28)), cmap='gray')\n",
    "    plt.savefig(('#' + str(ix) + ': PCA-Regenerated ' + str(data[ix, 0]) + '.png'), dpi=100, transparent=True)"
   ]
  }
 ],
 "metadata": {
  "kernelspec": {
   "display_name": "Python 2",
   "language": "python",
   "name": "python2"
  },
  "language_info": {
   "codemirror_mode": {
    "name": "ipython",
    "version": 2
   },
   "file_extension": ".py",
   "mimetype": "text/x-python",
   "name": "python",
   "nbconvert_exporter": "python",
   "pygments_lexer": "ipython2",
   "version": "2.7.12"
  }
 },
 "nbformat": 4,
 "nbformat_minor": 2
}
