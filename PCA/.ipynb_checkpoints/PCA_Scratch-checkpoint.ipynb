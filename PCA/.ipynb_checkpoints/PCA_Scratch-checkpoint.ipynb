{
 "cells": [
  {
   "cell_type": "code",
   "execution_count": 1,
   "metadata": {
    "collapsed": false
   },
   "outputs": [],
   "source": [
    "import numpy as np\n",
    "import pandas as pd\n",
    "from matplotlib import pyplot as plt\n",
    "%matplotlib inline"
   ]
  },
  {
   "cell_type": "code",
   "execution_count": 3,
   "metadata": {
    "collapsed": false
   },
   "outputs": [],
   "source": [
    "ds_test = pd.read_csv('../data.csv')"
   ]
  },
  {
   "cell_type": "code",
   "execution_count": 4,
   "metadata": {
    "collapsed": false
   },
   "outputs": [
    {
     "name": "stdout",
     "output_type": "stream",
     "text": [
      "(60000,)\n",
      "(60000, 784)\n",
      "(60000, 784)\n",
      "(784,) (784, 784)\n"
     ]
    }
   ],
   "source": [
    "data = ds_test.values[:, 1:]\n",
    "labels = ds_test.values[:,0]\n",
    "print labels.shape\n",
    "print data.shape\n",
    "\n",
    "data_std = (data - data.mean(axis=0))/(data.std(axis=0)+0.0001)\n",
    "print data_std.shape\n",
    "\n",
    "mean_std = np.mean(data_std, axis=0)\n",
    "cm_std = np.cov(data_std, rowvar=0)\n",
    "\n",
    "print mean_std.shape, cm_std.shape"
   ]
  },
  {
   "cell_type": "code",
   "execution_count": 16,
   "metadata": {
    "collapsed": false
   },
   "outputs": [
    {
     "name": "stdout",
     "output_type": "stream",
     "text": [
      "(784,) (784, 784)\n",
      "784\n",
      "(784,)\n"
     ]
    }
   ],
   "source": [
    "eig_val_std, eig_vec_std = np.linalg.eig(cm_std)\n",
    "print eig_val_std.shape, eig_vec_std.shape\n",
    "\n",
    "all_vals = []                          #basically collecting evals and evecs together\n",
    "for (ix, iv) in zip(eig_val_std, eig_vec_std):\n",
    "    all_vals.append([ix, iv])          #appending a tuple of list of eval, evec\n",
    "\n",
    "print len(all_vals)\n",
    "print all_vals[0][1].shape"
   ]
  },
  {
   "cell_type": "code",
   "execution_count": 17,
   "metadata": {
    "collapsed": false
   },
   "outputs": [
    {
     "name": "stdout",
     "output_type": "stream",
     "text": [
      "(784,) (784, 784)\n"
     ]
    }
   ],
   "source": [
    "new_vals = sorted(all_vals, key=lambda x: x[0], reverse=True)    #Basically sorting all_vals on basis of eigen values\n",
    "\n",
    "eig_val = []\n",
    "eig_vec = []\n",
    "\n",
    "for ix in new_vals:\n",
    "    eig_val.append(ix[0])    #collecting all eigen values in one list, in DESCENDING SORTED ORDER\n",
    "    eig_vec.append(ix[1])    #collecting all corresponding eigen vectors in one list\n",
    "\n",
    "eig_val = np.asarray(eig_val)\n",
    "eig_vec = np.asarray(eig_vec)\n",
    "\n",
    "print eig_val.shape, eig_vec.shape"
   ]
  },
  {
   "cell_type": "code",
   "execution_count": 18,
   "metadata": {
    "collapsed": false
   },
   "outputs": [
    {
     "name": "stdout",
     "output_type": "stream",
     "text": [
      "(784,)\n",
      "255\n"
     ]
    }
   ],
   "source": [
    "eig_cm = np.cumsum(eig_val)/np.sum(eig_val)\n",
    "print eig_cm.shape\n",
    "\n",
    "for ix in range(eig_cm.shape[0]):\n",
    "    if eig_cm[ix] >= 0.95:        #finding parameter till which 95% data is expressed\n",
    "        print ix\n",
    "        break"
   ]
  },
  {
   "cell_type": "code",
   "execution_count": 19,
   "metadata": {
    "collapsed": false
   },
   "outputs": [],
   "source": [
    "eig_pairs = [(np.abs(eig_val_std[i]), eig_vec_std[:,i])    #again collecting eigen values and eigen vectors together but this time in sorted order- sorted in DESC order according to Eigen Values\n",
    "             for i in range(len(eig_val_std))]\n",
    "\n",
    "eig_pairs = sorted(eig_pairs, key=lambda x: x[0], reverse=True)"
   ]
  },
  {
   "cell_type": "code",
   "execution_count": 20,
   "metadata": {
    "collapsed": false
   },
   "outputs": [
    {
     "name": "stdout",
     "output_type": "stream",
     "text": [
      "255\n",
      "(784, 255)\n"
     ]
    }
   ],
   "source": [
    "k = 255     #select k dimensions out of all dimensions for feature space\n",
    "d = eig_pairs[0][1].shape[0]\n",
    "selected = []\n",
    "\n",
    "for ix in range(k):\n",
    "    selected.append(eig_pairs[ix][1].reshape(d, 1))\n",
    "\n",
    "print len(selected)\n",
    "# Now stack the selected eigenvectors in W matrix\n",
    "mat_W = np.hstack(selected)\n",
    "print mat_W.shape           #This is the transformation matrix"
   ]
  },
  {
   "cell_type": "code",
   "execution_count": 21,
   "metadata": {
    "collapsed": false
   },
   "outputs": [
    {
     "name": "stdout",
     "output_type": "stream",
     "text": [
      "[[ 0.00031361  0.00017912 -0.0001148  ..., -0.00814348  0.0249435\n",
      "  -0.00169859]\n",
      " [ 0.00088094  0.00144965 -0.00085962 ...,  0.02838105 -0.04250944\n",
      "  -0.0121637 ]\n",
      " [ 0.00149312  0.00115863 -0.00188637 ..., -0.01500833  0.00489471\n",
      "   0.02064461]\n",
      " ..., \n",
      " [ 0.00649126  0.01408332 -0.00893998 ...,  0.05413359  0.01958647\n",
      "   0.01994844]\n",
      " [ 0.00146608  0.00961557  0.00232464 ..., -0.03993752 -0.05531489\n",
      "   0.0432404 ]\n",
      " [ 0.00066757  0.00409067  0.00124441 ..., -0.03277735  0.05775645\n",
      "   0.01436443]]\n"
     ]
    }
   ],
   "source": [
    "print mat_W"
   ]
  },
  {
   "cell_type": "code",
   "execution_count": null,
   "metadata": {
    "collapsed": true
   },
   "outputs": [],
   "source": [
    "'''\n",
    "All the above work can be done easily with sklearn (sci-kit learn)\n",
    "'''"
   ]
  },
  {
   "cell_type": "code",
   "execution_count": 18,
   "metadata": {
    "collapsed": true
   },
   "outputs": [],
   "source": [
    "import sklearn\n",
    "from sklearn.decomposition import PCA\n",
    "import datetime"
   ]
  },
  {
   "cell_type": "code",
   "execution_count": 29,
   "metadata": {
    "collapsed": false
   },
   "outputs": [
    {
     "name": "stdout",
     "output_type": "stream",
     "text": [
      "(42000, 319)\n"
     ]
    }
   ],
   "source": [
    "pca = PCA(n_components=319)\n",
    "\n",
    "X = pca.fit_transform(data_std)    #returns fitted and transformed data set\n",
    "print X.shape"
   ]
  },
  {
   "cell_type": "code",
   "execution_count": 30,
   "metadata": {
    "collapsed": false
   },
   "outputs": [
    {
     "name": "stdout",
     "output_type": "stream",
     "text": [
      "[[  4.06963682e+01   7.24094123e-16   6.96754495e-15   4.86496510e-15]\n",
      " [  7.24094123e-16   2.91113604e+01   4.41968105e-15  -1.51180025e-14]\n",
      " [  6.96754495e-15   4.41968105e-15   2.67832509e+01   9.41593050e-15]\n",
      " [  4.86496510e-15  -1.51180025e-14   9.41593050e-15   2.08146509e+01]]\n",
      "[[40  0  0  0  0  0  0  0  0  0]\n",
      " [ 0 29  0  0  0  0  0  0  0  0]\n",
      " [ 0  0 26  0  0  0  0  0  0  0]\n",
      " [ 0  0  0 20  0  0  0  0  0  0]\n",
      " [ 0  0  0  0 18  0  0  0  0  0]\n",
      " [ 0  0  0  0  0 15  0  0  0  0]\n",
      " [ 0  0  0  0  0  0 13  0  0  0]\n",
      " [ 0  0  0  0  0  0  0 12  0  0]\n",
      " [ 0  0  0  0  0  0  0  0 11  0]\n",
      " [ 0  0  0  0  0  0  0  0  0 10]]\n"
     ]
    }
   ],
   "source": [
    "trans_cm = np.cov(X, rowvar=0)\n",
    "print trans_cm[:4, :4]           #now we can see that the transformed matrix has a very nice covariance matrix ie. covariance of parameters is very less - therefore, made well independent with help of PCA\n",
    "new_mat = np.asarray(trans_cm, dtype='uint8')\n",
    "print new_mat[:10, :10]"
   ]
  },
  {
   "cell_type": "code",
   "execution_count": 37,
   "metadata": {
    "collapsed": false
   },
   "outputs": [
    {
     "name": "stdout",
     "output_type": "stream",
     "text": [
      "[ 0.05748407  0.09860419  0.13643582  0.16583675  0.19140316  0.21370335\n",
      "  0.23323035  0.25094777  0.26657557  0.28082622  0.29443735  0.30666365\n",
      "  0.31802186  0.32915361  0.33965749  0.3497815   0.3592952   0.36864104\n",
      "  0.37771427  0.38656816  0.39495781  0.40307866  0.41083081  0.41835446\n",
      "  0.42563185  0.43261986  0.43952486  0.4461745   0.45248165  0.458645\n",
      "  0.46475458  0.47072533  0.47649847  0.48223569  0.48788426  0.49334779\n",
      "  0.49874237  0.5039863   0.509035    0.5139204   0.51874298  0.52350211\n",
      "  0.5281022   0.53267824  0.5371742   0.54164138  0.54607997  0.5504484\n",
      "  0.55477454  0.5590406   0.5632317   0.56735086  0.57137516  0.57536942\n",
      "  0.57931792  0.58322577  0.58702485  0.59074951  0.59443364  0.59809088\n",
      "  0.60162374  0.60513471  0.60858874  0.61200271  0.61538045  0.61874523\n",
      "  0.62206211  0.62535921  0.62855934  0.63172698  0.63485375  0.63797212\n",
      "  0.64105373  0.64408645  0.6471013   0.6500717   0.65302011  0.65595602\n",
      "  0.65883429  0.66170256  0.66453425  0.66736264  0.67017799  0.67297008\n",
      "  0.67573848  0.67850156  0.68124061  0.68395857  0.68663984  0.68929434\n",
      "  0.69191506  0.69451665  0.69709805  0.69964668  0.70218174  0.70470575\n",
      "  0.70720639  0.70966432  0.71210762  0.71452149  0.71689801  0.7192604\n",
      "  0.72158371  0.72388606  0.72618103  0.72844564  0.73069511  0.73293176\n",
      "  0.73513883  0.73734078  0.73950878  0.74165573  0.74376758  0.74586649\n",
      "  0.74791525  0.74995558  0.75197574  0.75397844  0.75594859  0.75790568\n",
      "  0.7598498   0.76176735  0.76367085  0.76557144  0.76746702  0.76932212\n",
      "  0.7711652   0.77299135  0.77478851  0.77658187  0.7783597   0.7801215\n",
      "  0.78186027  0.78359447  0.78531418  0.78699956  0.78867903  0.79034268\n",
      "  0.79198227  0.79361392  0.79522997  0.7968383   0.79843508  0.80002027\n",
      "  0.80158452  0.80314215  0.80468432  0.80621523  0.80774237  0.80924305\n",
      "  0.81073572  0.81221238  0.81368702  0.81515998  0.81661367  0.81806185\n",
      "  0.81949459  0.82091896  0.82233632  0.82374895  0.8251608   0.82657033\n",
      "  0.82797831  0.82938261  0.83078217  0.83217274  0.83355699  0.83492804\n",
      "  0.8362905   0.83763762  0.8389814   0.84031389  0.84163118  0.84294335\n",
      "  0.84424351  0.84554209  0.84682353  0.84810305  0.84937825  0.85064574\n",
      "  0.85190664  0.85314976  0.85439153  0.85562575  0.85684359  0.85804385\n",
      "  0.85923116  0.8604056   0.8615718   0.86272891  0.86387696  0.86502327\n",
      "  0.86615777  0.86726587  0.86836214  0.86945129  0.8705294   0.87160002\n",
      "  0.87266339  0.8737195   0.87476841  0.87581221  0.87683295  0.87784342\n",
      "  0.87885074  0.87984226  0.88082893  0.8818007   0.88276967  0.88373236\n",
      "  0.88468496  0.88562766  0.88656473  0.88749274  0.88840729  0.88931776\n",
      "  0.89021979  0.89111755  0.89200285  0.89288503  0.89375126  0.89461362\n",
      "  0.89547143  0.89632426  0.89716446  0.89799832  0.8988233   0.89964354\n",
      "  0.900451    0.90125395  0.90205323  0.90284417  0.90362928  0.90439992\n",
      "  0.90515549  0.9059065   0.90664769  0.9073836   0.90811723  0.90884385\n",
      "  0.9095691   0.91028379  0.91098819  0.91168397  0.91237892  0.91307075\n",
      "  0.91375871  0.91444059  0.91510966  0.9157734   0.91643286  0.91708165\n",
      "  0.91772083  0.91834835  0.91897182  0.91959066  0.92020254  0.92080834\n",
      "  0.92141192  0.9220117   0.92260553  0.92319316  0.92377589  0.92435718\n",
      "  0.92493068  0.92550228  0.92607032  0.92663491  0.92719576  0.92774595\n",
      "  0.92829117  0.92883496  0.92937546  0.92990876  0.93043277  0.93095303\n",
      "  0.93147048  0.9319865   0.93249456  0.93299592  0.9334927   0.93398705\n",
      "  0.93448091  0.93496915  0.93545306  0.93592924  0.93640153  0.93686959\n",
      "  0.93732885  0.9377846   0.93823291  0.93867964  0.93912169  0.93956127\n",
      "  0.93999805  0.94042963  0.94085792  0.94128058  0.94169874  0.94211398\n",
      "  0.94252517  0.94293122  0.94333312  0.94373345  0.94412744  0.94451644\n",
      "  0.9449014   0.94528403  0.94566129  0.94603257  0.94640203  0.94677011\n",
      "  0.94713311  0.94749581  0.94785538  0.9482084   0.94855832  0.94890153\n",
      "  0.94924248]\n"
     ]
    }
   ],
   "source": [
    "v = pca.explained_variance_ratio_     #simply returns the vector containing contribution of eigen vector\n",
    "#cs = np.cumsum(v)/np.sum(v)\n",
    "cs = np.cumsum(v)\n",
    "print cs"
   ]
  },
  {
   "cell_type": "code",
   "execution_count": 38,
   "metadata": {
    "collapsed": false
   },
   "outputs": [
    {
     "data": {
      "image/png": "[encoded data removed]",
      "text/plain": [
       "<matplotlib.figure.Figure at 0x7f37768b76d0>"
      ]
     },
     "metadata": {},
     "output_type": "display_data"
    }
   ],
   "source": [
    "plt.plot(cs)\n",
    "plt.show()"
   ]
  },
  {
   "cell_type": "code",
   "execution_count": null,
   "metadata": {
    "collapsed": true
   },
   "outputs": [],
   "source": []
  }
 ],
 "metadata": {
  "kernelspec": {
   "display_name": "Python 2",
   "language": "python",
   "name": "python2"
  },
  "language_info": {
   "codemirror_mode": {
    "name": "ipython",
    "version": 2
   },
   "file_extension": ".py",
   "mimetype": "text/x-python",
   "name": "python",
   "nbconvert_exporter": "python",
   "pygments_lexer": "ipython2",
   "version": "2.7.12"
  }
 },
 "nbformat": 4,
 "nbformat_minor": 2
}
